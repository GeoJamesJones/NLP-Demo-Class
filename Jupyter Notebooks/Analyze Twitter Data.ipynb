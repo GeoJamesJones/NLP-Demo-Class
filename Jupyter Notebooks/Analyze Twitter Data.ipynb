{
 "cells": [
  {
   "cell_type": "code",
   "execution_count": 16,
   "metadata": {},
   "outputs": [],
   "source": [
    "import os \n",
    "import json\n",
    "import requests\n",
    "import textblob\n",
    "import time\n",
    "import re\n",
    "\n",
    "import numpy as np\n",
    "import pandas as pd\n",
    "import keras.preprocessing.text as kpt\n",
    "import matplotlib.pyplot as plt\n",
    "\n",
    "from keras.models import load_model\n",
    "from arcgis.gis import GIS\n",
    "from keras.preprocessing.text import Tokenizer\n",
    "from keras.preprocessing.sequence import pad_sequences\n",
    "from textblob.sentiments import NaiveBayesAnalyzer\n",
    "from textblob.np_extractors import ConllExtractor\n",
    "from textblob import TextBlob"
   ]
  },
  {
   "cell_type": "code",
   "execution_count": 7,
   "metadata": {},
   "outputs": [],
   "source": [
    "csv_path = r'Baltimore Riots Tweets/baltimore_twitter.csv'\n",
    "model = load_model('models/Twitter_SA_Model.h5')"
   ]
  },
  {
   "cell_type": "code",
   "execution_count": 8,
   "metadata": {},
   "outputs": [],
   "source": [
    "with open('dictionary/dictionary.json', 'r') as dictionary_file:\n",
    "    dictionary = json.load(dictionary_file)"
   ]
  },
  {
   "cell_type": "code",
   "execution_count": 9,
   "metadata": {},
   "outputs": [],
   "source": [
    "tokenizer = Tokenizer(num_words=20000)"
   ]
  },
  {
   "cell_type": "code",
   "execution_count": 10,
   "metadata": {},
   "outputs": [],
   "source": [
    "def convert_text_to_index_array(text):\n",
    "    words = kpt.text_to_word_sequence(text)\n",
    "    wordIndices = []\n",
    "    for word in words:\n",
    "        if word in dictionary:\n",
    "            wordIndices.append(dictionary[word])\n",
    "        else:\n",
    "            pass\n",
    "            #print(\"'%s' not in training corpus; ignoring.\" %(word))\n",
    "    return wordIndices"
   ]
  },
  {
   "cell_type": "code",
   "execution_count": 11,
   "metadata": {},
   "outputs": [],
   "source": [
    "def Sentiment(tweet_text):\n",
    "    labels = ['positive', 'negative']\n",
    "    testArr = convert_text_to_index_array(tweet_text)\n",
    "    twt = tokenizer.sequences_to_matrix([testArr], mode='binary')\n",
    "    twt = pad_sequences(twt, maxlen=86, dtype='int32', padding='post', truncating='post', value=0)\n",
    "    sentiment = model.predict(twt)\n",
    "    accuracy = sentiment[0][np.argmax(sentiment)] * 100\n",
    "    tweetSent = labels[np.argmax(sentiment)]\n",
    "    return tweetSent, accuracy"
   ]
  },
  {
   "cell_type": "code",
   "execution_count": 12,
   "metadata": {},
   "outputs": [],
   "source": [
    "def calculate_sentiment(object_id, text_to_analyze):\n",
    "    sent_sp = TextBlob(text_to_analyze)\n",
    "    subjectivity = sent_sp.sentiment.subjectivity\n",
    "    polarity = sent_sp.sentiment.polarity\n",
    "    sentiment_tf = Sentiment(text_to_analyze)\n",
    "    classification_tf = sentiment_tf[0]\n",
    "    if classification_tf == 'positive':\n",
    "        classification_num = 1\n",
    "    else:\n",
    "        classification_num = 0\n",
    "    accuracy_tf = sentiment_tf[1]\n",
    "    text_sentiment = [object_id, subjectivity, polarity, classification_tf, accuracy_tf, classification_num]\n",
    "    return text_sentiment"
   ]
  },
  {
   "cell_type": "code",
   "execution_count": 13,
   "metadata": {},
   "outputs": [],
   "source": [
    "df = pd.read_csv(csv_path)\n",
    "df.dropna()\n",
    "text_df = df[['OBJECTID', 'text']]"
   ]
  },
  {
   "cell_type": "code",
   "execution_count": 17,
   "metadata": {},
   "outputs": [],
   "source": [
    "df['text'] = df['text'].apply(lambda x: x.lower())\n",
    "df['text'] = df['text'].apply((lambda x: re.sub('[^a-zA-z0-9\\s]','',x)))"
   ]
  },
  {
   "cell_type": "code",
   "execution_count": 18,
   "metadata": {},
   "outputs": [
    {
     "data": {
      "text/html": [
       "<div>\n",
       "<style scoped>\n",
       "    .dataframe tbody tr th:only-of-type {\n",
       "        vertical-align: middle;\n",
       "    }\n",
       "\n",
       "    .dataframe tbody tr th {\n",
       "        vertical-align: top;\n",
       "    }\n",
       "\n",
       "    .dataframe thead th {\n",
       "        text-align: right;\n",
       "    }\n",
       "</style>\n",
       "<table border=\"1\" class=\"dataframe\">\n",
       "  <thead>\n",
       "    <tr style=\"text-align: right;\">\n",
       "      <th></th>\n",
       "      <th>OBJECTID</th>\n",
       "      <th>lat</th>\n",
       "      <th>long</th>\n",
       "      <th>dtg</th>\n",
       "      <th>user_name</th>\n",
       "      <th>user_id</th>\n",
       "      <th>text</th>\n",
       "    </tr>\n",
       "  </thead>\n",
       "  <tbody>\n",
       "    <tr>\n",
       "      <th>0</th>\n",
       "      <td>1</td>\n",
       "      <td>39.274819</td>\n",
       "      <td>-76.608696</td>\n",
       "      <td>Mon Apr 27 23:00:57 +0000 2015</td>\n",
       "      <td>PandaMc8</td>\n",
       "      <td>3.880081e+08</td>\n",
       "      <td>wtffffff httpstco2dt5pxqoc2</td>\n",
       "    </tr>\n",
       "    <tr>\n",
       "      <th>1</th>\n",
       "      <td>2</td>\n",
       "      <td>39.292146</td>\n",
       "      <td>-76.567825</td>\n",
       "      <td>Mon Apr 27 23:01:15 +0000 2015</td>\n",
       "      <td>okaykerra</td>\n",
       "      <td>3.519059e+08</td>\n",
       "      <td>pretty rick been everywhere and aint been aint...</td>\n",
       "    </tr>\n",
       "    <tr>\n",
       "      <th>2</th>\n",
       "      <td>3</td>\n",
       "      <td>39.293876</td>\n",
       "      <td>-76.682365</td>\n",
       "      <td>Mon Apr 27 23:01:41 +0000 2015</td>\n",
       "      <td>letgoletkarma</td>\n",
       "      <td>4.498094e+07</td>\n",
       "      <td>im filing exempt tomorrow</td>\n",
       "    </tr>\n",
       "    <tr>\n",
       "      <th>3</th>\n",
       "      <td>4</td>\n",
       "      <td>39.309108</td>\n",
       "      <td>-76.666054</td>\n",
       "      <td>Mon Apr 27 23:01:47 +0000 2015</td>\n",
       "      <td>PrettyMoee</td>\n",
       "      <td>2.656314e+08</td>\n",
       "      <td>i got endless videos</td>\n",
       "    </tr>\n",
       "    <tr>\n",
       "      <th>4</th>\n",
       "      <td>5</td>\n",
       "      <td>39.281066</td>\n",
       "      <td>-76.631622</td>\n",
       "      <td>Mon Apr 27 23:02:05 +0000 2015</td>\n",
       "      <td>khyona_</td>\n",
       "      <td>2.157380e+09</td>\n",
       "      <td>omg they mace the man</td>\n",
       "    </tr>\n",
       "  </tbody>\n",
       "</table>\n",
       "</div>"
      ],
      "text/plain": [
       "  OBJECTID        lat       long                             dtg  \\\n",
       "0        1  39.274819 -76.608696  Mon Apr 27 23:00:57 +0000 2015   \n",
       "1        2  39.292146 -76.567825  Mon Apr 27 23:01:15 +0000 2015   \n",
       "2        3  39.293876 -76.682365  Mon Apr 27 23:01:41 +0000 2015   \n",
       "3        4  39.309108 -76.666054  Mon Apr 27 23:01:47 +0000 2015   \n",
       "4        5  39.281066 -76.631622  Mon Apr 27 23:02:05 +0000 2015   \n",
       "\n",
       "       user_name       user_id  \\\n",
       "0       PandaMc8  3.880081e+08   \n",
       "1      okaykerra  3.519059e+08   \n",
       "2  letgoletkarma  4.498094e+07   \n",
       "3     PrettyMoee  2.656314e+08   \n",
       "4        khyona_  2.157380e+09   \n",
       "\n",
       "                                                text  \n",
       "0                        wtffffff httpstco2dt5pxqoc2  \n",
       "1  pretty rick been everywhere and aint been aint...  \n",
       "2                          im filing exempt tomorrow  \n",
       "3                               i got endless videos  \n",
       "4                             omg they mace the man   "
      ]
     },
     "execution_count": 18,
     "metadata": {},
     "output_type": "execute_result"
    }
   ],
   "source": [
    "df.head()"
   ]
  },
  {
   "cell_type": "code",
   "execution_count": 13,
   "metadata": {},
   "outputs": [
    {
     "name": "stdout",
     "output_type": "stream",
     "text": [
      "Total Rows:  23137\n",
      "Total Columns:  7\n"
     ]
    }
   ],
   "source": [
    "df_shape = df.shape\n",
    "print(\"Total Rows:  \" + repr(df_shape[0]))\n",
    "print(\"Total Columns:  \" + repr(df_shape[1]))"
   ]
  },
  {
   "cell_type": "code",
   "execution_count": 14,
   "metadata": {},
   "outputs": [
    {
     "name": "stdout",
     "output_type": "stream",
     "text": [
      "1539625632.4249065\n",
      "151.65324521064758\n",
      "Process completed with an error percentage of 0.0\n"
     ]
    }
   ],
   "source": [
    "sentiment_list =[]\n",
    "\n",
    "start_time = time.time()\n",
    "print(start_time)\n",
    "\n",
    "errors = 0\n",
    "\n",
    "for row in text_df.iterrows():\n",
    "    oid = row[1]['OBJECTID']\n",
    "    text = row[1]['text']\n",
    "    if text != None:\n",
    "        try:\n",
    "            classified_text = calculate_sentiment(oid, text)\n",
    "            sentiment_list.append(classified_text)\n",
    "            #print(classified_text)\n",
    "        except:\n",
    "            errors +=1\n",
    "            print(\"Error on oid \" + str(oid))\n",
    "            \n",
    "    \n",
    "end_time = time.time()\n",
    "print(end_time - start_time)\n",
    "print(\"Process completed with an error percentage of \" + repr((errors/df_shape[0]) * 100))"
   ]
  },
  {
   "cell_type": "code",
   "execution_count": 15,
   "metadata": {},
   "outputs": [
    {
     "data": {
      "text/html": [
       "<div>\n",
       "<style scoped>\n",
       "    .dataframe tbody tr th:only-of-type {\n",
       "        vertical-align: middle;\n",
       "    }\n",
       "\n",
       "    .dataframe tbody tr th {\n",
       "        vertical-align: top;\n",
       "    }\n",
       "\n",
       "    .dataframe thead th {\n",
       "        text-align: right;\n",
       "    }\n",
       "</style>\n",
       "<table border=\"1\" class=\"dataframe\">\n",
       "  <thead>\n",
       "    <tr style=\"text-align: right;\">\n",
       "      <th></th>\n",
       "      <th>OBJECTID</th>\n",
       "      <th>Subjectivity</th>\n",
       "      <th>Polarity</th>\n",
       "      <th>Sentiment</th>\n",
       "      <th>Accuracy</th>\n",
       "      <th>Classification</th>\n",
       "    </tr>\n",
       "  </thead>\n",
       "  <tbody>\n",
       "    <tr>\n",
       "      <th>0</th>\n",
       "      <td>1</td>\n",
       "      <td>0.00</td>\n",
       "      <td>0.000000</td>\n",
       "      <td>negative</td>\n",
       "      <td>61.184597</td>\n",
       "      <td>0</td>\n",
       "    </tr>\n",
       "    <tr>\n",
       "      <th>1</th>\n",
       "      <td>2</td>\n",
       "      <td>1.00</td>\n",
       "      <td>0.390625</td>\n",
       "      <td>negative</td>\n",
       "      <td>61.184955</td>\n",
       "      <td>0</td>\n",
       "    </tr>\n",
       "    <tr>\n",
       "      <th>2</th>\n",
       "      <td>3</td>\n",
       "      <td>0.00</td>\n",
       "      <td>0.000000</td>\n",
       "      <td>negative</td>\n",
       "      <td>61.184597</td>\n",
       "      <td>0</td>\n",
       "    </tr>\n",
       "    <tr>\n",
       "      <th>3</th>\n",
       "      <td>4</td>\n",
       "      <td>0.75</td>\n",
       "      <td>-0.125000</td>\n",
       "      <td>negative</td>\n",
       "      <td>61.245066</td>\n",
       "      <td>0</td>\n",
       "    </tr>\n",
       "    <tr>\n",
       "      <th>4</th>\n",
       "      <td>5</td>\n",
       "      <td>0.00</td>\n",
       "      <td>0.000000</td>\n",
       "      <td>negative</td>\n",
       "      <td>61.184657</td>\n",
       "      <td>0</td>\n",
       "    </tr>\n",
       "  </tbody>\n",
       "</table>\n",
       "</div>"
      ],
      "text/plain": [
       "  OBJECTID  Subjectivity  Polarity Sentiment   Accuracy  Classification\n",
       "0        1          0.00  0.000000  negative  61.184597               0\n",
       "1        2          1.00  0.390625  negative  61.184955               0\n",
       "2        3          0.00  0.000000  negative  61.184597               0\n",
       "3        4          0.75 -0.125000  negative  61.245066               0\n",
       "4        5          0.00  0.000000  negative  61.184657               0"
      ]
     },
     "execution_count": 15,
     "metadata": {},
     "output_type": "execute_result"
    }
   ],
   "source": [
    "sentiment_columns = ['OBJECTID', 'Subjectivity', 'Polarity', 'Sentiment', 'Accuracy', 'Classification']\n",
    "sentiment_df = pd.DataFrame(sentiment_list, columns=sentiment_columns)\n",
    "sentiment_df.head()"
   ]
  },
  {
   "cell_type": "code",
   "execution_count": 16,
   "metadata": {},
   "outputs": [
    {
     "data": {
      "text/html": [
       "<div>\n",
       "<style scoped>\n",
       "    .dataframe tbody tr th:only-of-type {\n",
       "        vertical-align: middle;\n",
       "    }\n",
       "\n",
       "    .dataframe tbody tr th {\n",
       "        vertical-align: top;\n",
       "    }\n",
       "\n",
       "    .dataframe thead th {\n",
       "        text-align: right;\n",
       "    }\n",
       "</style>\n",
       "<table border=\"1\" class=\"dataframe\">\n",
       "  <thead>\n",
       "    <tr style=\"text-align: right;\">\n",
       "      <th></th>\n",
       "      <th>OBJECTID</th>\n",
       "      <th>lat</th>\n",
       "      <th>long</th>\n",
       "      <th>dtg</th>\n",
       "      <th>user_name</th>\n",
       "      <th>user_id</th>\n",
       "      <th>text</th>\n",
       "      <th>Subjectivity</th>\n",
       "      <th>Polarity</th>\n",
       "      <th>Sentiment</th>\n",
       "      <th>Accuracy</th>\n",
       "      <th>Classification</th>\n",
       "    </tr>\n",
       "  </thead>\n",
       "  <tbody>\n",
       "    <tr>\n",
       "      <th>0</th>\n",
       "      <td>1</td>\n",
       "      <td>39.274819</td>\n",
       "      <td>-76.608696</td>\n",
       "      <td>Mon Apr 27 23:00:57 +0000 2015</td>\n",
       "      <td>PandaMc8</td>\n",
       "      <td>3.880081e+08</td>\n",
       "      <td>WTFFFFFF https://t.co/2DT5PxqOc2</td>\n",
       "      <td>0.00</td>\n",
       "      <td>0.000000</td>\n",
       "      <td>negative</td>\n",
       "      <td>61.184597</td>\n",
       "      <td>0</td>\n",
       "    </tr>\n",
       "    <tr>\n",
       "      <th>1</th>\n",
       "      <td>2</td>\n",
       "      <td>39.292146</td>\n",
       "      <td>-76.567825</td>\n",
       "      <td>Mon Apr 27 23:01:15 +0000 2015</td>\n",
       "      <td>okaykerra</td>\n",
       "      <td>3.519059e+08</td>\n",
       "      <td>Pretty Rick been everywhere and ain't been ain...</td>\n",
       "      <td>1.00</td>\n",
       "      <td>0.390625</td>\n",
       "      <td>negative</td>\n",
       "      <td>61.184955</td>\n",
       "      <td>0</td>\n",
       "    </tr>\n",
       "    <tr>\n",
       "      <th>2</th>\n",
       "      <td>3</td>\n",
       "      <td>39.293876</td>\n",
       "      <td>-76.682365</td>\n",
       "      <td>Mon Apr 27 23:01:41 +0000 2015</td>\n",
       "      <td>letgoletkarma</td>\n",
       "      <td>4.498094e+07</td>\n",
       "      <td>I'm filing exempt tomorrow</td>\n",
       "      <td>0.00</td>\n",
       "      <td>0.000000</td>\n",
       "      <td>negative</td>\n",
       "      <td>61.184597</td>\n",
       "      <td>0</td>\n",
       "    </tr>\n",
       "    <tr>\n",
       "      <th>3</th>\n",
       "      <td>4</td>\n",
       "      <td>39.309108</td>\n",
       "      <td>-76.666054</td>\n",
       "      <td>Mon Apr 27 23:01:47 +0000 2015</td>\n",
       "      <td>PrettyMoee</td>\n",
       "      <td>2.656314e+08</td>\n",
       "      <td>I got endless videos</td>\n",
       "      <td>0.75</td>\n",
       "      <td>-0.125000</td>\n",
       "      <td>negative</td>\n",
       "      <td>61.245066</td>\n",
       "      <td>0</td>\n",
       "    </tr>\n",
       "    <tr>\n",
       "      <th>4</th>\n",
       "      <td>5</td>\n",
       "      <td>39.281066</td>\n",
       "      <td>-76.631622</td>\n",
       "      <td>Mon Apr 27 23:02:05 +0000 2015</td>\n",
       "      <td>khyona_</td>\n",
       "      <td>2.157380e+09</td>\n",
       "      <td>Omg they mace the man</td>\n",
       "      <td>0.00</td>\n",
       "      <td>0.000000</td>\n",
       "      <td>negative</td>\n",
       "      <td>61.184657</td>\n",
       "      <td>0</td>\n",
       "    </tr>\n",
       "  </tbody>\n",
       "</table>\n",
       "</div>"
      ],
      "text/plain": [
       "  OBJECTID        lat       long                             dtg  \\\n",
       "0        1  39.274819 -76.608696  Mon Apr 27 23:00:57 +0000 2015   \n",
       "1        2  39.292146 -76.567825  Mon Apr 27 23:01:15 +0000 2015   \n",
       "2        3  39.293876 -76.682365  Mon Apr 27 23:01:41 +0000 2015   \n",
       "3        4  39.309108 -76.666054  Mon Apr 27 23:01:47 +0000 2015   \n",
       "4        5  39.281066 -76.631622  Mon Apr 27 23:02:05 +0000 2015   \n",
       "\n",
       "       user_name       user_id  \\\n",
       "0       PandaMc8  3.880081e+08   \n",
       "1      okaykerra  3.519059e+08   \n",
       "2  letgoletkarma  4.498094e+07   \n",
       "3     PrettyMoee  2.656314e+08   \n",
       "4        khyona_  2.157380e+09   \n",
       "\n",
       "                                                text  Subjectivity  Polarity  \\\n",
       "0                   WTFFFFFF https://t.co/2DT5PxqOc2          0.00  0.000000   \n",
       "1  Pretty Rick been everywhere and ain't been ain...          1.00  0.390625   \n",
       "2                         I'm filing exempt tomorrow          0.00  0.000000   \n",
       "3                               I got endless videos          0.75 -0.125000   \n",
       "4                             Omg they mace the man           0.00  0.000000   \n",
       "\n",
       "  Sentiment   Accuracy  Classification  \n",
       "0  negative  61.184597               0  \n",
       "1  negative  61.184955               0  \n",
       "2  negative  61.184597               0  \n",
       "3  negative  61.245066               0  \n",
       "4  negative  61.184657               0  "
      ]
     },
     "execution_count": 16,
     "metadata": {},
     "output_type": "execute_result"
    }
   ],
   "source": [
    "merged_df = pd.merge(df, sentiment_df, on='OBJECTID')\n",
    "merged_df.head()"
   ]
  },
  {
   "cell_type": "code",
   "execution_count": 17,
   "metadata": {},
   "outputs": [
    {
     "name": "stderr",
     "output_type": "stream",
     "text": [
      "C:\\Users\\jame9353\\AppData\\Local\\ESRI\\conda\\envs\\TensorFlow\\lib\\site-packages\\ipykernel_launcher.py:9: DeprecationWarning: Flags not at the start of the expression '@(?i)[a-z0-9_]+'\n",
      "  if __name__ == '__main__':\n"
     ]
    }
   ],
   "source": [
    "import re\n",
    "\n",
    "mentions = []\n",
    "\n",
    "for row in merged_df.iterrows():\n",
    "    oid = row[1]['OBJECTID']\n",
    "    text = row[1]['text']\n",
    "    user = row[1]['user_name']\n",
    "    match = re.findall(r'@(?i)[a-z0-9_]+', text)\n",
    "    if len(match) > 0:\n",
    "        for handle in match:\n",
    "            mentions.append([\"@\" + user, handle])"
   ]
  },
  {
   "cell_type": "code",
   "execution_count": 18,
   "metadata": {},
   "outputs": [
    {
     "data": {
      "text/plain": [
       "7016"
      ]
     },
     "execution_count": 18,
     "metadata": {},
     "output_type": "execute_result"
    }
   ],
   "source": [
    "len(mentions)"
   ]
  },
  {
   "cell_type": "code",
   "execution_count": 19,
   "metadata": {},
   "outputs": [
    {
     "data": {
      "text/html": [
       "<div>\n",
       "<style scoped>\n",
       "    .dataframe tbody tr th:only-of-type {\n",
       "        vertical-align: middle;\n",
       "    }\n",
       "\n",
       "    .dataframe tbody tr th {\n",
       "        vertical-align: top;\n",
       "    }\n",
       "\n",
       "    .dataframe thead th {\n",
       "        text-align: right;\n",
       "    }\n",
       "</style>\n",
       "<table border=\"1\" class=\"dataframe\">\n",
       "  <thead>\n",
       "    <tr style=\"text-align: right;\">\n",
       "      <th></th>\n",
       "      <th>User</th>\n",
       "      <th>Mentioned</th>\n",
       "    </tr>\n",
       "  </thead>\n",
       "  <tbody>\n",
       "    <tr>\n",
       "      <th>0</th>\n",
       "      <td>@lizbreaux</td>\n",
       "      <td>@EternalWeather1</td>\n",
       "    </tr>\n",
       "    <tr>\n",
       "      <th>1</th>\n",
       "      <td>@latisha_92</td>\n",
       "      <td>@TrinaBraxton</td>\n",
       "    </tr>\n",
       "    <tr>\n",
       "      <th>2</th>\n",
       "      <td>@HotBoy_Gotti</td>\n",
       "      <td>@im_taedoe_bitch</td>\n",
       "    </tr>\n",
       "    <tr>\n",
       "      <th>3</th>\n",
       "      <td>@latisha_92</td>\n",
       "      <td>@towandabraxton</td>\n",
       "    </tr>\n",
       "    <tr>\n",
       "      <th>4</th>\n",
       "      <td>@HousingWatchMD</td>\n",
       "      <td>@mbta535</td>\n",
       "    </tr>\n",
       "  </tbody>\n",
       "</table>\n",
       "</div>"
      ],
      "text/plain": [
       "              User         Mentioned\n",
       "0       @lizbreaux  @EternalWeather1\n",
       "1      @latisha_92     @TrinaBraxton\n",
       "2    @HotBoy_Gotti  @im_taedoe_bitch\n",
       "3      @latisha_92   @towandabraxton\n",
       "4  @HousingWatchMD          @mbta535"
      ]
     },
     "execution_count": 19,
     "metadata": {},
     "output_type": "execute_result"
    }
   ],
   "source": [
    "mentions_columns = ['User', 'Mentioned']\n",
    "mentions_df = pd.DataFrame(mentions, columns=mentions_columns)\n",
    "mentions_df.head()"
   ]
  },
  {
   "cell_type": "code",
   "execution_count": 20,
   "metadata": {},
   "outputs": [],
   "source": [
    "merged_df.to_csv('output/SentimentData.csv')\n",
    "mentions_df.to_csv('output/TwitterMentions.csv')"
   ]
  },
  {
   "cell_type": "code",
   "execution_count": 21,
   "metadata": {},
   "outputs": [],
   "source": [
    "from arcgis.features import SpatialDataFrame\n",
    "\n",
    "spatial_df = SpatialDataFrame.from_xy(merged_df, 'long', 'lat', sr=4326)"
   ]
  },
  {
   "cell_type": "code",
   "execution_count": 22,
   "metadata": {
    "scrolled": true
   },
   "outputs": [
    {
     "data": {
      "text/plain": [
       "<matplotlib.collections.PathCollection at 0x1a8d4f88be0>"
      ]
     },
     "execution_count": 22,
     "metadata": {},
     "output_type": "execute_result"
    },
    {
     "data": {
      "image/png": "[encoded data removed]",
      "text/plain": [
       "<Figure size 432x288 with 1 Axes>"
      ]
     },
     "metadata": {},
     "output_type": "display_data"
    }
   ],
   "source": [
    "plt.scatter(spatial_df.Polarity, merged_df.Subjectivity, s=100, c=merged_df.Classification)"
   ]
  },
  {
   "cell_type": "code",
   "execution_count": null,
   "metadata": {},
   "outputs": [],
   "source": []
  }
 ],
 "metadata": {
  "kernelspec": {
   "display_name": "Python 3",
   "language": "python",
   "name": "python3"
  },
  "language_info": {
   "codemirror_mode": {
    "name": "ipython",
    "version": 3
   },
   "file_extension": ".py",
   "mimetype": "text/x-python",
   "name": "python",
   "nbconvert_exporter": "python",
   "pygments_lexer": "ipython3",
   "version": "3.6.7"
  }
 },
 "nbformat": 4,
 "nbformat_minor": 2
}
