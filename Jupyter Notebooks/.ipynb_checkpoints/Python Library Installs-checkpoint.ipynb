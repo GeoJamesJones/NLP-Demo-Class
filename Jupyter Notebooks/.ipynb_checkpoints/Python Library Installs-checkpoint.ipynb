{
 "cells": [
  {
   "cell_type": "code",
   "execution_count": 1,
   "metadata": {},
   "outputs": [],
   "source": [
    "import sys"
   ]
  },
  {
   "cell_type": "code",
   "execution_count": 4,
   "metadata": {},
   "outputs": [
    {
     "name": "stdout",
     "output_type": "stream",
     "text": [
      "Requirement already satisfied: cognitive_face in c:\\users\\dif_user\\anaconda3\\lib\\site-packages (1.4.1)\n",
      "Requirement already satisfied: requests in c:\\users\\dif_user\\anaconda3\\lib\\site-packages (from cognitive_face) (2.18.4)\n",
      "Requirement already satisfied: chardet<3.1.0,>=3.0.2 in c:\\users\\dif_user\\anaconda3\\lib\\site-packages (from requests->cognitive_face) (3.0.4)\n",
      "Requirement already satisfied: idna<2.7,>=2.5 in c:\\users\\dif_user\\anaconda3\\lib\\site-packages (from requests->cognitive_face) (2.6)\n",
      "Requirement already satisfied: urllib3<1.23,>=1.21.1 in c:\\users\\dif_user\\anaconda3\\lib\\site-packages (from requests->cognitive_face) (1.22)\n",
      "Requirement already satisfied: certifi>=2017.4.17 in c:\\users\\dif_user\\anaconda3\\lib\\site-packages (from requests->cognitive_face) (2018.4.16)\n"
     ]
    }
   ],
   "source": [
    "!{sys.executable} -m pip install cognitive_face"
   ]
  },
  {
   "cell_type": "code",
   "execution_count": 3,
   "metadata": {},
   "outputs": [
    {
     "name": "stdout",
     "output_type": "stream",
     "text": [
      "Collecting msgpack\n",
      "  Downloading https://files.pythonhosted.org/packages/04/81/c6363198f24ec1c56e5c48ce685cb532e175125adade0cdb181c8c5fea6e/msgpack-0.5.6-cp36-cp36m-win_amd64.whl (85kB)\n",
      "Installing collected packages: msgpack\n",
      "Successfully installed msgpack-0.5.6\n"
     ]
    }
   ],
   "source": [
    "!{sys.executable} -m pip install msgpack"
   ]
  },
  {
   "cell_type": "code",
   "execution_count": 7,
   "metadata": {},
   "outputs": [
    {
     "name": "stdout",
     "output_type": "stream",
     "text": [
      "Solving environment: ...working... done\n",
      "\n",
      "## Package Plan ##\n",
      "\n",
      "  environment location: C:\\Users\\dif_user\\Anaconda3\n",
      "\n",
      "  added / updated specs: \n",
      "    - arcgis\n",
      "\n",
      "\n",
      "The following packages will be downloaded:\n",
      "\n",
      "    package                    |            build\n",
      "    ---------------------------|-----------------\n",
      "    keyring-11.0.0             |           py36_0          63 KB  esri\n",
      "    pywin32-ctypes-0.1.2       |           py36_0          32 KB  esri\n",
      "    pyshp-1.2.12               |   py36h9b5cf0b_0          36 KB\n",
      "    winkerberos-0.7.0          |           py36_0          19 KB\n",
      "    arcgis-1.4.1               |   py36h52c3b5e_1         1.3 MB  esri\n",
      "    ------------------------------------------------------------\n",
      "                                           Total:         1.4 MB\n",
      "\n",
      "The following NEW packages will be INSTALLED:\n",
      "\n",
      "    arcgis:         1.4.1-py36h52c3b5e_1  esri\n",
      "    keyring:        11.0.0-py36_0         esri\n",
      "    pyshp:          1.2.12-py36h9b5cf0b_0     \n",
      "    pywin32-ctypes: 0.1.2-py36_0          esri\n",
      "    winkerberos:    0.7.0-py36_0              \n",
      "\n",
      "\n",
      "Downloading and Extracting Packages\n",
      "Preparing transaction: ...working... done\n",
      "Verifying transaction: ...working... done\n",
      "Executing transaction: ...working... Uninstalling prior versions of arcgis widget\n",
      "Installing C:\\Users\\dif_user\\AppData\\Roaming\\Python\\Python36\\site-packages\\arcgis\\widgets -> arcgis\n",
      "Out of date: C:\\Users\\dif_user\\Anaconda3\\share\\jupyter\\nbextensions\\arcgis\\custom.css\n",
      "Copying: C:\\Users\\dif_user\\AppData\\Roaming\\Python\\Python36\\site-packages\\arcgis\\widgets\\custom.css -> C:\\Users\\dif_user\\Anaconda3\\share\\jupyter\\nbextensions\\arcgis\\custom.css\n",
      "Out of date: C:\\Users\\dif_user\\Anaconda3\\share\\jupyter\\nbextensions\\arcgis\\mapview.js\n",
      "Copying: C:\\Users\\dif_user\\AppData\\Roaming\\Python\\Python36\\site-packages\\arcgis\\widgets\\mapview.js -> C:\\Users\\dif_user\\Anaconda3\\share\\jupyter\\nbextensions\\arcgis\\mapview.js\n",
      "Out of date: C:\\Users\\dif_user\\Anaconda3\\share\\jupyter\\nbextensions\\arcgis\\__init__.py\n",
      "Copying: C:\\Users\\dif_user\\AppData\\Roaming\\Python\\Python36\\site-packages\\arcgis\\widgets\\__init__.py -> C:\\Users\\dif_user\\Anaconda3\\share\\jupyter\\nbextensions\\arcgis\\__init__.py\n",
      "Out of date: C:\\Users\\dif_user\\Anaconda3\\share\\jupyter\\nbextensions\\arcgis\\icons\\marker.png\n",
      "Copying: C:\\Users\\dif_user\\AppData\\Roaming\\Python\\Python36\\site-packages\\arcgis\\widgets\\icons\\marker.png -> C:\\Users\\dif_user\\Anaconda3\\share\\jupyter\\nbextensions\\arcgis\\icons\\marker.png\n",
      "Out of date: C:\\Users\\dif_user\\Anaconda3\\share\\jupyter\\nbextensions\\arcgis\\icons\\pink.png\n",
      "Copying: C:\\Users\\dif_user\\AppData\\Roaming\\Python\\Python36\\site-packages\\arcgis\\widgets\\icons\\pink.png -> C:\\Users\\dif_user\\Anaconda3\\share\\jupyter\\nbextensions\\arcgis\\icons\\pink.png\n",
      "Out of date: C:\\Users\\dif_user\\Anaconda3\\share\\jupyter\\nbextensions\\arcgis\\requirejs\\text.js\n",
      "Copying: C:\\Users\\dif_user\\AppData\\Roaming\\Python\\Python36\\site-packages\\arcgis\\widgets\\requirejs\\text.js -> C:\\Users\\dif_user\\Anaconda3\\share\\jupyter\\nbextensions\\arcgis\\requirejs\\text.js\n",
      "Making directory: C:\\Users\\dif_user\\Anaconda3\\share\\jupyter\\nbextensions\\arcgis\\__pycache__\n",
      "Copying: C:\\Users\\dif_user\\AppData\\Roaming\\Python\\Python36\\site-packages\\arcgis\\widgets\\__pycache__\\__init__.cpython-36.pyc -> C:\\Users\\dif_user\\Anaconda3\\share\\jupyter\\nbextensions\\arcgis\\__pycache__\\__init__.cpython-36.pyc\n",
      "- Validating: ok\n",
      "\n",
      "    To initialize this nbextension in the browser every time the notebook (or other app) loads:\n",
      "    \n",
      "          jupyter nbextension enable arcgis --py --sys-prefix\n",
      "    \n",
      "Enabling notebook extension arcgis/mapview...\n",
      "      - Validating: ok\n",
      "\n",
      "done\n"
     ]
    },
    {
     "name": "stderr",
     "output_type": "stream",
     "text": [
      "\n",
      "keyring-11.0.0       |   63 KB |            |   0% \n",
      "keyring-11.0.0       |   63 KB | #9         |  19% \n",
      "keyring-11.0.0       |   63 KB | ########## | 100% \n",
      "\n",
      "pywin32-ctypes-0.1.2 |   32 KB |            |   0% \n",
      "pywin32-ctypes-0.1.2 |   32 KB | ###7       |  37% \n",
      "pywin32-ctypes-0.1.2 |   32 KB | ########## | 100% \n",
      "\n",
      "pyshp-1.2.12         |   36 KB |            |   0% \n",
      "pyshp-1.2.12         |   36 KB | ########## | 100% \n",
      "\n",
      "winkerberos-0.7.0    |   19 KB |            |   0% \n",
      "winkerberos-0.7.0    |   19 KB | ########## | 100% \n",
      "\n",
      "arcgis-1.4.1         |  1.3 MB |            |   0% \n",
      "arcgis-1.4.1         |  1.3 MB |            |   1% \n",
      "arcgis-1.4.1         |  1.3 MB | #######5   |  75% \n",
      "arcgis-1.4.1         |  1.3 MB | #########7 |  98% \n",
      "arcgis-1.4.1         |  1.3 MB | ########## | 100% \n"
     ]
    }
   ],
   "source": [
    "!conda install --yes --prefix {sys.prefix} -c esri arcgis"
   ]
  },
  {
   "cell_type": "code",
   "execution_count": 9,
   "metadata": {},
   "outputs": [
    {
     "name": "stderr",
     "output_type": "stream",
     "text": [
      "Enabling notebook extension arcgis/mapview...\n",
      "      - Validating: ok\n"
     ]
    }
   ],
   "source": [
    "!jupyter nbextension enable arcgis --py --sys-prefix"
   ]
  },
  {
   "cell_type": "code",
   "execution_count": 10,
   "metadata": {},
   "outputs": [
    {
     "name": "stdout",
     "output_type": "stream",
     "text": [
      "Collecting py2neo==3.1\n",
      "  Downloading https://files.pythonhosted.org/packages/61/4c/593b605ba0ffce0d8f6faea7dbe93e9fff244024196a092d81c0b1975aad/py2neo-3.1.0-py2.py3-none-any.whl (140kB)\n",
      "Installing collected packages: py2neo\n",
      "Successfully installed py2neo-3.1.0\n"
     ]
    }
   ],
   "source": [
    "!{sys.executable} -m pip install py2neo==3.1"
   ]
  },
  {
   "cell_type": "code",
   "execution_count": 2,
   "metadata": {},
   "outputs": [
    {
     "name": "stdout",
     "output_type": "stream",
     "text": [
      "Collecting textblob\n",
      "  Using cached https://files.pythonhosted.org/packages/11/18/7f55c8be6d68ddc4036ffda5382ca51e23a1075987f708b9123712091af1/textblob-0.15.1-py2.py3-none-any.whl\n",
      "Requirement already satisfied: nltk>=3.1 in c:\\users\\jame9353\\appdata\\local\\esri\\conda\\envs\\tensorflow\\lib\\site-packages (from textblob) (3.3)\n",
      "Requirement already satisfied: six in c:\\users\\jame9353\\appdata\\local\\esri\\conda\\envs\\tensorflow\\lib\\site-packages (from nltk>=3.1->textblob) (1.11.0)\n",
      "Installing collected packages: textblob\n",
      "Successfully installed textblob-0.15.1\n"
     ]
    },
    {
     "name": "stderr",
     "output_type": "stream",
     "text": [
      "botocore 1.10.50 requires jmespath<1.0.0,>=0.7.1, which is not installed.\n",
      "awscli 1.15.51 requires rsa<=3.5.0,>=3.1.2, which is not installed.\n",
      "awscli 1.15.51 requires s3transfer<0.2.0,>=0.1.12, which is not installed.\n",
      "distributed 1.21.8 requires msgpack, which is not installed.\n",
      "You are using pip version 10.0.1, however version 18.1 is available.\n",
      "You should consider upgrading via the 'python -m pip install --upgrade pip' command.\n"
     ]
    }
   ],
   "source": [
    "!{sys.executable} -m pip install textblob"
   ]
  },
  {
   "cell_type": "code",
   "execution_count": 3,
   "metadata": {},
   "outputs": [
    {
     "name": "stdout",
     "output_type": "stream",
     "text": [
      "Collecting keras\n",
      "  Downloading https://files.pythonhosted.org/packages/5e/10/aa32dad071ce52b5502266b5c659451cfd6ffcbf14e6c8c4f16c0ff5aaab/Keras-2.2.4-py2.py3-none-any.whl (312kB)\n",
      "Collecting keras-applications>=1.0.6 (from keras)\n",
      "  Downloading https://files.pythonhosted.org/packages/3f/c4/2ff40221029f7098d58f8d7fb99b97e8100f3293f9856f0fb5834bef100b/Keras_Applications-1.0.6-py2.py3-none-any.whl (44kB)\n",
      "Requirement already satisfied: six>=1.9.0 in c:\\users\\jame9353\\appdata\\local\\esri\\conda\\envs\\tensorflow\\lib\\site-packages (from keras) (1.11.0)\n",
      "Collecting keras-preprocessing>=1.0.5 (from keras)\n",
      "  Downloading https://files.pythonhosted.org/packages/fc/94/74e0fa783d3fc07e41715973435dd051ca89c550881b3454233c39c73e69/Keras_Preprocessing-1.0.5-py2.py3-none-any.whl\n",
      "Requirement already satisfied: scipy>=0.14 in c:\\users\\jame9353\\appdata\\local\\esri\\conda\\envs\\tensorflow\\lib\\site-packages (from keras) (1.1.0)\n",
      "Requirement already satisfied: h5py in c:\\users\\jame9353\\appdata\\local\\esri\\conda\\envs\\tensorflow\\lib\\site-packages (from keras) (2.7.1)\n",
      "Requirement already satisfied: numpy>=1.9.1 in c:\\users\\jame9353\\appdata\\local\\esri\\conda\\envs\\tensorflow\\lib\\site-packages (from keras) (1.14.5)\n",
      "Requirement already satisfied: pyyaml in c:\\users\\jame9353\\appdata\\local\\esri\\conda\\envs\\tensorflow\\lib\\site-packages (from keras) (3.12)\n",
      "Installing collected packages: keras-applications, keras-preprocessing, keras\n",
      "Successfully installed keras-2.2.4 keras-applications-1.0.6 keras-preprocessing-1.0.5\n"
     ]
    },
    {
     "name": "stderr",
     "output_type": "stream",
     "text": [
      "botocore 1.10.50 requires jmespath<1.0.0,>=0.7.1, which is not installed.\n",
      "awscli 1.15.51 requires rsa<=3.5.0,>=3.1.2, which is not installed.\n",
      "awscli 1.15.51 requires s3transfer<0.2.0,>=0.1.12, which is not installed.\n",
      "distributed 1.21.8 requires msgpack, which is not installed.\n",
      "You are using pip version 10.0.1, however version 18.1 is available.\n",
      "You should consider upgrading via the 'python -m pip install --upgrade pip' command.\n"
     ]
    }
   ],
   "source": [
    "!{sys.executable} -m pip install keras"
   ]
  },
  {
   "cell_type": "code",
   "execution_count": null,
   "metadata": {},
   "outputs": [],
   "source": []
  }
 ],
 "metadata": {
  "kernelspec": {
   "display_name": "Python 3",
   "language": "python",
   "name": "python3"
  },
  "language_info": {
   "codemirror_mode": {
    "name": "ipython",
    "version": 3
   },
   "file_extension": ".py",
   "mimetype": "text/x-python",
   "name": "python",
   "nbconvert_exporter": "python",
   "pygments_lexer": "ipython3",
   "version": "3.6.5"
  }
 },
 "nbformat": 4,
 "nbformat_minor": 2
}
